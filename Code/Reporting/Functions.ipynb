{
 "cells": [
  {
   "cell_type": "code",
   "execution_count": 1,
   "id": "a74bad55",
   "metadata": {},
   "outputs": [],
   "source": [
    "import pandas as pd\n",
    "import numpy as np\n",
    "import requests\n",
    "import bs4\n",
    "from shapely.geometry import Point\n",
    "import geopandas as gpd\n",
    "import os"
   ]
  },
  {
   "cell_type": "code",
   "execution_count": 2,
   "id": "a78fd85e",
   "metadata": {},
   "outputs": [],
   "source": [
    "def to_mercator(lat, long):\n",
    "    # transform latitude/longitude data in degrees to pseudo-mercator coordinates in metres\n",
    "    c = gpd.GeoSeries([Point(lat, long)], crs=4326)\n",
    "    c = c.to_crs(3857)\n",
    "    return c"
   ]
  },
  {
   "cell_type": "code",
   "execution_count": 3,
   "id": "c4d1d82b",
   "metadata": {},
   "outputs": [],
   "source": [
    "bicimad = pd.read_json(\"../../Data/biciMad stations.json\")\n",
    "long = [float(i.split(\",\")[0].replace(\"[\", \"\")) for i in bicimad[\"geometry_coordinates\"]]\n",
    "lat = [float(i.split(\",\")[1].replace(\"]\", \"\")) for i in bicimad[\"geometry_coordinates\"]]\n",
    "bicimad[\"LATITUD\"] = lat\n",
    "bicimad[\"LONGITUD\"] = long\n",
    "bicimad = bicimad.rename(index=str, columns={\"LATITUD\": \"lat_finish\", \"LONGITUD\": \"long_finish\"})\n",
    "bicimad = pd.DataFrame(bicimad[[\"name\",\"address\",\"lat_finish\",\"long_finish\"]])\n",
    "bicimad[\"DISTANCIA\"] = bicimad.apply(lambda x: to_mercator(x[\"lat_finish\"],x[\"long_finish\"]), axis = 1)"
   ]
  },
  {
   "cell_type": "code",
   "execution_count": 4,
   "id": "941aff50",
   "metadata": {},
   "outputs": [],
   "source": [
    "centros = requests.get('https://datos.madrid.es/egob/catalogo/212769-0-atencion-medica.json')\n",
    "centros = centros.json()\n",
    "centros = pd.json_normalize(centros['@graph'])\n",
    "centros[\"TIPO DE LUGAR\"] = \"Sedes.Centros de atención médica\"\n",
    "centros = centros.rename(index=str, columns={\"location.latitude\": \"lat_start\", \"location.longitude\": \"long_start\"})\n",
    "centros=pd.DataFrame(centros[[\"title\", \"TIPO DE LUGAR\", \"address.street-address\", \"lat_start\", \"long_start\"]])\n",
    "centros[\"DISTANCIA\"] = centros.apply(lambda x: to_mercator(x[\"lat_start\"],x[\"long_start\"]), axis = 1)"
   ]
  },
  {
   "cell_type": "code",
   "execution_count": 5,
   "id": "7a387450",
   "metadata": {},
   "outputs": [],
   "source": [
    "bicimad1 = pd.DataFrame(bicimad[[\"name\",\"address\",\"lat_finish\",\"long_finish\"]])\n",
    "bicimad1[\"DISTANCIA\"] = bicimad1.apply(lambda x: to_mercator(x[\"lat_finish\"],x[\"long_finish\"]), axis = 1)\n",
    "\n",
    "centros1=pd.DataFrame(centros[[\"title\", \"TIPO DE LUGAR\", \"address.street-address\", \"lat_start\", \"long_start\"]])\n",
    "centros1[\"DISTANCIA\"] = centros1.apply(lambda x: to_mercator(x[\"lat_start\"],x[\"long_start\"]), axis = 1)"
   ]
  },
  {
   "cell_type": "code",
   "execution_count": 6,
   "id": "2b36a9af",
   "metadata": {},
   "outputs": [],
   "source": [
    "def distance_meters(DISTANCIA_x, DISTANCIA_y):\n",
    "    return DISTANCIA_x.distance(DISTANCIA_y)"
   ]
  },
  {
   "cell_type": "code",
   "execution_count": 7,
   "id": "86bf5aec",
   "metadata": {},
   "outputs": [],
   "source": [
    "df_bicis = pd.merge(bicimad1, centros1, how ='cross')\n",
    "df_bicis[\"DISTANCIA\"] = df_bicis.apply(lambda x: distance_meters(x[\"DISTANCIA_x\"],x[\"DISTANCIA_y\"]), axis = 1)"
   ]
  },
  {
   "cell_type": "code",
   "execution_count": 8,
   "id": "d11db8be",
   "metadata": {},
   "outputs": [],
   "source": [
    "df_final = pd.DataFrame(df_bicis[[\"title\", \"TIPO DE LUGAR\", \"address.street-address\", \"DISTANCIA\", \"name\", \"address\"]])\n",
    "df_final = df_final.rename(index=str, columns={\"title\": \"Place of Interest\", \"TIPO DE LUGAR\": \"Type of Place\", \"address.street-address\": \"Place Address\", \"name\": \"BiciMad Station\", \"address\": \"Station location\"})"
   ]
  },
  {
   "cell_type": "code",
   "execution_count": 9,
   "id": "ed445f60",
   "metadata": {},
   "outputs": [],
   "source": [
    "def read_json():\n",
    "    bicimad = pd.read_json(\"../../Data/biciMad stations.json\")\n",
    "    long = [float(i.split(\",\")[0].replace(\"[\", \"\")) for i in bicimad[\"geometry_coordinates\"]]\n",
    "    lat = [float(i.split(\",\")[1].replace(\"]\", \"\")) for i in bicimad[\"geometry_coordinates\"]]\n",
    "    bicimad[\"LATITUD\"] = lat\n",
    "    bicimad[\"LONGITUD\"] = long\n",
    "    bicimad = bicimad.rename(index=str, columns={\"LATITUD\": \"lat_finish\", \"LONGITUD\": \"long_finish\"})\n",
    "    bicimad = pd.DataFrame(bicimad[[\"name\",\"address\",\"lat_finish\",\"long_finish\"]])\n",
    "    bicimad[\"DISTANCIA\"] = bicimad.apply(lambda x: to_mercator(x[\"lat_finish\"],x[\"long_finish\"]), axis = 1)\n",
    "    return bicimad"
   ]
  },
  {
   "cell_type": "code",
   "execution_count": 10,
   "id": "5f7ecc47",
   "metadata": {},
   "outputs": [],
   "source": [
    "def centros():\n",
    "    centros = requests.get('https://datos.madrid.es/egob/catalogo/212769-0-atencion-medica.json')\n",
    "    centros = centros.json()\n",
    "    centros = pd.json_normalize(centros['@graph'])\n",
    "    centros[\"TIPO DE LUGAR\"] = \"Sedes.Centros de atención médica\"\n",
    "    centros = centros.rename(index=str, columns={\"location.latitude\": \"lat_start\", \"location.longitude\": \"long_start\"})\n",
    "    centros=pd.DataFrame(centros[[\"title\", \"TIPO DE LUGAR\", \"address.street-address\", \"lat_start\", \"long_start\"]])\n",
    "    centros[\"DISTANCIA\"] = centros.apply(lambda x: to_mercator(x[\"lat_start\"],x[\"long_start\"]), axis = 1)\n",
    "    return centros\n"
   ]
  },
  {
   "cell_type": "code",
   "execution_count": 11,
   "id": "3265ec03",
   "metadata": {},
   "outputs": [],
   "source": [
    "def bicis():\n",
    "    df_bicis = pd.merge(bicimad1, centros1, how ='cross')\n",
    "    df_bicis[\"DISTANCIA\"] = df_bicis.apply(lambda x: distance_meters(x[\"DISTANCIA_x\"],x[\"DISTANCIA_y\"]), axis = 1)\n",
    "    return df_bicis"
   ]
  },
  {
   "cell_type": "code",
   "execution_count": 12,
   "id": "963eb477",
   "metadata": {},
   "outputs": [],
   "source": [
    "def final(): \n",
    "    df_final = pd.DataFrame(df_bicis[[\"title\", \"TIPO DE LUGAR\", \"address.street-address\", \"DISTANCIA\", \"name\", \"address\"]])\n",
    "    df_final = df_final.rename(index=str, columns={\"title\": \"Place of Interest\", \"TIPO DE LUGAR\": \"Type of Place\", \"address.street-address\": \"Place Address\", \"name\": \"BiciMad Station\", \"address\": \"Station location\"})\n",
    "    return df_final"
   ]
  },
  {
   "cell_type": "code",
   "execution_count": 13,
   "id": "02505f10",
   "metadata": {},
   "outputs": [],
   "source": [
    "def bicimad_station():\n",
    "    i = str(input(\"Introduzca lugar \"))\n",
    "    x = df_final[df_final[\"Place of Interest\"] == i]\n",
    "    return x.sort_values(by = \"DISTANCIA\", ascending = True).head(1)"
   ]
  },
  {
   "cell_type": "code",
   "execution_count": 14,
   "id": "673ce3a5",
   "metadata": {},
   "outputs": [],
   "source": [
    "def bicimad():\n",
    "    return df_final.sort_values(by = \"DISTANCIA\", ascending = True).groupby('Place of Interest')['Type of Place','Place Address', 'DISTANCIA','BiciMad Station', 'Station location'].nth(0).drop([\"DISTANCIA\"], axis = \"columns\")"
   ]
  },
  {
   "cell_type": "code",
   "execution_count": null,
   "id": "d9aa412f",
   "metadata": {},
   "outputs": [],
   "source": []
  }
 ],
 "metadata": {
  "kernelspec": {
   "display_name": "Python [conda env:project1]",
   "language": "python",
   "name": "conda-env-project1-py"
  },
  "language_info": {
   "codemirror_mode": {
    "name": "ipython",
    "version": 3
   },
   "file_extension": ".py",
   "mimetype": "text/x-python",
   "name": "python",
   "nbconvert_exporter": "python",
   "pygments_lexer": "ipython3",
   "version": "3.7.11"
  }
 },
 "nbformat": 4,
 "nbformat_minor": 5
}
